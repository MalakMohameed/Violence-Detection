{
  "cells": [
    {
      "cell_type": "code",
      "execution_count": 4,
      "metadata": {
        "_cell_guid": "b1076dfc-b9ad-4769-8c92-a6c4dae69d19",
        "_uuid": "8f2839f25d086af736a60e9eeb907d3b93b6e0e5",
        "execution": {
          "iopub.execute_input": "2024-08-20T20:12:01.31666Z",
          "iopub.status.busy": "2024-08-20T20:12:01.316323Z",
          "iopub.status.idle": "2024-08-20T20:12:01.33077Z",
          "shell.execute_reply": "2024-08-20T20:12:01.329718Z",
          "shell.execute_reply.started": "2024-08-20T20:12:01.316633Z"
        },
        "id": "N3d3bXcuyanp",
        "trusted": true
      },
      "outputs": [
        {
          "name": "stdout",
          "output_type": "stream",
          "text": [
            "Windows-10-10.0.19045-SP0\n"
          ]
        }
      ],
      "source": [
        "import os\n",
        "import platform\n",
        "from IPython.display import clear_output\n",
        "print(platform.platform())\n",
        "\n",
        "def resolve_dir(Dir):\n",
        "    if not os.path.exists(Dir):\n",
        "        os.mkdir(Dir)\n",
        "\n",
        "def reset_path(Dir):\n",
        "    if not os.path.exists(Dir):\n",
        "        os.mkdir(Dir)\n",
        "    else:\n",
        "        os.system('rm -f {}/*'.format( Dir))"
      ]
    },
    {
      "cell_type": "code",
      "execution_count": 5,
      "metadata": {
        "execution": {
          "iopub.execute_input": "2024-08-20T20:12:08.185057Z",
          "iopub.status.busy": "2024-08-20T20:12:08.184676Z",
          "iopub.status.idle": "2024-08-20T20:12:12.786619Z",
          "shell.execute_reply": "2024-08-20T20:12:12.785526Z",
          "shell.execute_reply.started": "2024-08-20T20:12:08.185025Z"
        },
        "id": "Ql9OYvgiyanq",
        "trusted": true
      },
      "outputs": [
        {
          "name": "stdout",
          "output_type": "stream",
          "text": [
            "Sun Dec 15 10:59:47 2024       \n",
            "+-----------------------------------------------------------------------------------------+\n",
            "| NVIDIA-SMI 566.14                 Driver Version: 566.14         CUDA Version: 12.7     |\n",
            "|-----------------------------------------+------------------------+----------------------+\n",
            "| GPU  Name                  Driver-Model | Bus-Id          Disp.A | Volatile Uncorr. ECC |\n",
            "| Fan  Temp   Perf          Pwr:Usage/Cap |           Memory-Usage | GPU-Util  Compute M. |\n",
            "|                                         |                        |               MIG M. |\n",
            "|=========================================+========================+======================|\n",
            "|   0  NVIDIA GeForce 940M          WDDM  |   00000000:01:00.0 Off |                  N/A |\n",
            "| N/A    0C    P0             N/A /  200W |       0MiB /   2048MiB |      0%      Default |\n",
            "|                                         |                        |                  N/A |\n",
            "+-----------------------------------------+------------------------+----------------------+\n",
            "                                                                                         \n",
            "+-----------------------------------------------------------------------------------------+\n",
            "| Processes:                                                                              |\n",
            "|  GPU   GI   CI        PID   Type   Process name                              GPU Memory |\n",
            "|        ID   ID                                                               Usage      |\n",
            "|=========================================================================================|\n",
            "|  No running processes found                                                             |\n",
            "+-----------------------------------------------------------------------------------------+\n",
            "Tensorflow version 2.17.0\n"
          ]
        }
      ],
      "source": [
        "import tensorflow as tf\n",
        "tf.random.set_seed(73)\n",
        "TPU_INIT = False\n",
        "\n",
        "if TPU_INIT:\n",
        "    try:\n",
        "        tpu = tf.distribute.cluster_resolver.TPUClusterResolver.connect()\n",
        "        tpu_strategy = tf.distribute.experimental.TPUStrategy(tpu)\n",
        "\n",
        "    except ValueError:\n",
        "        raise BaseException('ERROR: Not connected to a TPU runtime!')\n",
        "else:\n",
        "    !nvidia-smi\n",
        "print(\"Tensorflow version \" + tf.__version__)"
      ]
    },
    {
      "cell_type": "code",
      "execution_count": 6,
      "metadata": {
        "execution": {
          "iopub.execute_input": "2024-08-20T20:12:15.303014Z",
          "iopub.status.busy": "2024-08-20T20:12:15.301662Z",
          "iopub.status.idle": "2024-08-20T20:12:15.307881Z",
          "shell.execute_reply": "2024-08-20T20:12:15.306964Z",
          "shell.execute_reply.started": "2024-08-20T20:12:15.302975Z"
        },
        "id": "2zo0C6hZyanr",
        "trusted": true
      },
      "outputs": [],
      "source": [
        "MyDrive = r'C:\\Users\\malak\\OneDrive\\Documents\\Image Processing Project\\kaggle'\n",
        "PROJECT_DIR = r'C:\\Users\\malak\\OneDrive\\Documents\\Image Processing Project\\SCVD\\SCVD_converted'"
      ]
    },
    {
      "cell_type": "code",
      "execution_count": 7,
      "metadata": {
        "execution": {
          "iopub.execute_input": "2024-08-20T20:12:16.105835Z",
          "iopub.status.busy": "2024-08-20T20:12:16.105468Z",
          "iopub.status.idle": "2024-08-20T20:12:16.498981Z",
          "shell.execute_reply": "2024-08-20T20:12:16.498184Z",
          "shell.execute_reply.started": "2024-08-20T20:12:16.105789Z"
        },
        "id": "Mx7_5Ihqyanr",
        "trusted": true
      },
      "outputs": [],
      "source": [
        "import cv2\n",
        "import os\n",
        "import imageio\n",
        "import imgaug.augmenters as iaa\n",
        "import imgaug as ia\n",
        "\n",
        "IMG_SIZE = 128\n",
        "ColorChannels = 3\n",
        "\n",
        "def video_to_frames(video):\n",
        "    vidcap = cv2.VideoCapture(video)\n",
        "\n",
        "    import math\n",
        "    rate = math.floor(vidcap.get(3))\n",
        "    count = 0\n",
        "\n",
        "    ImageFrames = []\n",
        "    while vidcap.isOpened():\n",
        "        ID = vidcap.get(1)\n",
        "        success, image = vidcap.read()\n",
        "\n",
        "        if success:\n",
        "            # skipping frames to avoid duplications\n",
        "            if (ID % 3 == 0):\n",
        "                flip = iaa.Fliplr(1.0)\n",
        "                zoom = iaa.Affine(scale=1.3)\n",
        "                random_brightness = iaa.Multiply((1, 1.3))\n",
        "                rotate = iaa.Affine(rotate=(-25, 25))\n",
        "\n",
        "                image_aug = flip(image = image)\n",
        "                image_aug = random_brightness(image = image_aug)\n",
        "                image_aug = zoom(image = image_aug)\n",
        "                image_aug = rotate(image = image_aug)\n",
        "\n",
        "                rgb_img = cv2.cvtColor(image_aug, cv2.COLOR_BGR2RGB)\n",
        "                resized = cv2.resize(rgb_img, (IMG_SIZE, IMG_SIZE))\n",
        "                ImageFrames.append(resized)\n",
        "\n",
        "            count += 1\n",
        "        else:\n",
        "            break\n",
        "\n",
        "    vidcap.release()\n",
        "\n",
        "    return ImageFrames"
      ]
    },
    {
      "cell_type": "code",
      "execution_count": 8,
      "metadata": {
        "execution": {
          "iopub.execute_input": "2024-08-20T20:12:16.733556Z",
          "iopub.status.busy": "2024-08-20T20:12:16.732678Z",
          "iopub.status.idle": "2024-08-20T20:17:48.551991Z",
          "shell.execute_reply": "2024-08-20T20:17:48.551096Z",
          "shell.execute_reply.started": "2024-08-20T20:12:16.733526Z"
        },
        "id": "PBjGUHCKyans",
        "trusted": true
      },
      "outputs": [
        {
          "name": "stdout",
          "output_type": "stream",
          "text": [
            "we have \n",
            "99 Violence videos \n",
            "200 NonViolence videos\n"
          ]
        },
        {
          "name": "stderr",
          "output_type": "stream",
          "text": [
            "100%|██████████| 200/200 [03:43<00:00,  1.12s/it]\n",
            "100%|██████████| 99/99 [04:15<00:00,  2.58s/it]"
          ]
        },
        {
          "name": "stdout",
          "output_type": "stream",
          "text": [
            "CPU times: total: 19min 35s\n",
            "Wall time: 7min 58s\n"
          ]
        },
        {
          "name": "stderr",
          "output_type": "stream",
          "text": [
            "\n"
          ]
        }
      ],
      "source": [
        "%%time\n",
        "from tqdm import tqdm\n",
        "\n",
        "VideoDataDir = PROJECT_DIR + '/Train'\n",
        "print('we have \\n{} Violence videos \\n{} NonViolence videos'.format(\n",
        "              len(os.listdir(VideoDataDir + '/Violence')),\n",
        "              len(os.listdir(VideoDataDir + '/Normal'))))\n",
        "\n",
        "X_original = []\n",
        "y_original = []\n",
        "\n",
        "# print('i choose 700 videos out of 2000, cuz of memory issue')\n",
        "CLASSES = [\"Normal\", \"Violence\"]\n",
        "#700 <- 350 + 350\n",
        "\n",
        "for category in CLASSES:\n",
        "    path = os.path.join(VideoDataDir, category)\n",
        "    class_num = CLASSES.index(category)\n",
        "    for i, video in enumerate(tqdm(os.listdir(path))):\n",
        "        frames = video_to_frames(path + '/' + video)\n",
        "        for j, frame in enumerate(frames):\n",
        "            X_original.append(frame)\n",
        "            y_original.append(class_num)"
      ]
    },
    {
      "cell_type": "code",
      "execution_count": 9,
      "metadata": {
        "execution": {
          "iopub.execute_input": "2024-08-20T20:59:21.183494Z",
          "iopub.status.busy": "2024-08-20T20:59:21.182509Z",
          "iopub.status.idle": "2024-08-20T21:00:17.936451Z",
          "shell.execute_reply": "2024-08-20T21:00:17.935468Z",
          "shell.execute_reply.started": "2024-08-20T20:59:21.183457Z"
        },
        "id": "OEwfZsSdyant",
        "trusted": true
      },
      "outputs": [
        {
          "name": "stdout",
          "output_type": "stream",
          "text": [
            "we have \n",
            "12 Violence videos \n",
            "46 NonViolence videos\n"
          ]
        },
        {
          "name": "stderr",
          "output_type": "stream",
          "text": [
            "100%|██████████| 46/46 [00:54<00:00,  1.18s/it]\n",
            "100%|██████████| 12/12 [00:34<00:00,  2.85s/it]\n"
          ]
        }
      ],
      "source": [
        "VideoDataDir_Test = PROJECT_DIR + '/Test'\n",
        "print('we have \\n{} Violence videos \\n{} NonViolence videos'.format(\n",
        "              len(os.listdir(VideoDataDir_Test + '/Violence')),\n",
        "              len(os.listdir(VideoDataDir_Test + '/Normal'))))\n",
        "X_test_1 = []\n",
        "y_test_1 = []\n",
        "for category in CLASSES:\n",
        "    path = os.path.join(VideoDataDir_Test, category)\n",
        "    class_num = CLASSES.index(category)\n",
        "    for i, video in enumerate(tqdm(os.listdir(path))):\n",
        "        frames = video_to_frames(path + '/' + video)\n",
        "        for j, frame in enumerate(frames):\n",
        "            X_test_1.append(frame)\n",
        "            y_test_1.append(class_num)"
      ]
    },
    {
      "cell_type": "code",
      "execution_count": 10,
      "metadata": {
        "execution": {
          "iopub.execute_input": "2024-08-20T20:18:49.680035Z",
          "iopub.status.busy": "2024-08-20T20:18:49.679664Z",
          "iopub.status.idle": "2024-08-20T20:18:50.00847Z",
          "shell.execute_reply": "2024-08-20T20:18:50.007466Z",
          "shell.execute_reply.started": "2024-08-20T20:18:49.680003Z"
        },
        "id": "VGHlpTDAyant",
        "trusted": true
      },
      "outputs": [
        {
          "data": {
            "text/plain": [
              "17295"
            ]
          },
          "execution_count": 10,
          "metadata": {},
          "output_type": "execute_result"
        }
      ],
      "source": [
        "import numpy as np\n",
        "X_original = np.array(X_original).reshape(-1 , IMG_SIZE * IMG_SIZE * 3)\n",
        "y_original = np.array(y_original)\n",
        "len(X_original)"
      ]
    },
    {
      "cell_type": "code",
      "execution_count": 11,
      "metadata": {
        "execution": {
          "iopub.execute_input": "2024-08-20T20:18:50.012013Z",
          "iopub.status.busy": "2024-08-20T20:18:50.011549Z",
          "iopub.status.idle": "2024-08-20T20:18:53.176741Z",
          "shell.execute_reply": "2024-08-20T20:18:53.175641Z",
          "shell.execute_reply.started": "2024-08-20T20:18:50.011971Z"
        },
        "id": "Xrn1CW84yanu",
        "trusted": true
      },
      "outputs": [],
      "source": [
        "from sklearn.model_selection import StratifiedShuffleSplit\n",
        "\n",
        "stratified_sample = StratifiedShuffleSplit(n_splits=2, test_size=0.3, random_state=73)\n",
        "\n",
        "for train_index, test_index in stratified_sample.split(X_original, y_original):\n",
        "    X_train, X_test = X_original[train_index], X_original[test_index]\n",
        "    y_train, y_test = y_original[train_index], y_original[test_index]\n",
        "\n",
        "X_train_nn = X_train.reshape(-1, IMG_SIZE, IMG_SIZE, 3) / 255\n",
        "X_test_nn = X_test.reshape(-1, IMG_SIZE, IMG_SIZE, 3) / 255"
      ]
    },
    {
      "cell_type": "code",
      "execution_count": 12,
      "metadata": {
        "execution": {
          "iopub.execute_input": "2024-08-20T20:18:53.179041Z",
          "iopub.status.busy": "2024-08-20T20:18:53.178237Z",
          "iopub.status.idle": "2024-08-20T20:19:08.655101Z",
          "shell.execute_reply": "2024-08-20T20:19:08.654088Z",
          "shell.execute_reply.started": "2024-08-20T20:18:53.178996Z"
        },
        "id": "GfSe_AxIyanv",
        "trusted": true
      },
      "outputs": [
        {
          "name": "stdout",
          "output_type": "stream",
          "text": [
            "Requirement already satisfied: imutils in c:\\users\\malak\\appdata\\local\\packages\\pythonsoftwarefoundation.python.3.11_qbz5n2kfra8p0\\localcache\\local-packages\\python311\\site-packages (0.5.4)\n"
          ]
        },
        {
          "name": "stderr",
          "output_type": "stream",
          "text": [
            "\n",
            "[notice] A new release of pip is available: 24.1.2 -> 24.3.1\n",
            "[notice] To update, run: C:\\Users\\malak\\AppData\\Local\\Microsoft\\WindowsApps\\PythonSoftwareFoundation.Python.3.11_qbz5n2kfra8p0\\python.exe -m pip install --upgrade pip\n"
          ]
        }
      ],
      "source": [
        "!pip install imutils"
      ]
    },
    {
      "cell_type": "code",
      "execution_count": 5,
      "metadata": {
        "execution": {
          "iopub.execute_input": "2024-08-20T20:19:08.657226Z",
          "iopub.status.busy": "2024-08-20T20:19:08.65671Z",
          "iopub.status.idle": "2024-08-20T20:19:08.665901Z",
          "shell.execute_reply": "2024-08-20T20:19:08.665103Z",
          "shell.execute_reply.started": "2024-08-20T20:19:08.657176Z"
        },
        "id": "Y47RT5gGyanw",
        "trusted": true
      },
      "outputs": [],
      "source": [
        "import cv2\n",
        "import os\n",
        "import numpy as np\n",
        "import pickle\n",
        "import matplotlib\n",
        "matplotlib.use(\"Agg\")\n",
        "\n",
        "from keras.layers import Input\n",
        "from keras.models import Model\n",
        "from keras.layers import Dropout,Flatten,Dense\n",
        "\n",
        "import matplotlib.pyplot as plt"
      ]
    },
    {
      "cell_type": "code",
      "execution_count": 4,
      "metadata": {
        "execution": {
          "iopub.execute_input": "2024-08-20T20:19:08.667547Z",
          "iopub.status.busy": "2024-08-20T20:19:08.667053Z",
          "iopub.status.idle": "2024-08-20T20:19:10.830749Z",
          "shell.execute_reply": "2024-08-20T20:19:10.829873Z",
          "shell.execute_reply.started": "2024-08-20T20:19:08.667522Z"
        },
        "id": "tx1_9W_Xyanw",
        "trusted": true
      },
      "outputs": [
        {
          "ename": "NameError",
          "evalue": "name 'TPU_INIT' is not defined",
          "output_type": "error",
          "traceback": [
            "\u001b[1;31m---------------------------------------------------------------------------\u001b[0m",
            "\u001b[1;31mNameError\u001b[0m                                 Traceback (most recent call last)",
            "Cell \u001b[1;32mIn[4], line 28\u001b[0m\n\u001b[0;32m     22\u001b[0m     model\u001b[38;5;241m.\u001b[39mcompile(loss\u001b[38;5;241m=\u001b[39m\u001b[38;5;124m\"\u001b[39m\u001b[38;5;124mbinary_crossentropy\u001b[39m\u001b[38;5;124m\"\u001b[39m,\n\u001b[0;32m     23\u001b[0m                     optimizer\u001b[38;5;241m=\u001b[39m\u001b[38;5;124m'\u001b[39m\u001b[38;5;124madam\u001b[39m\u001b[38;5;124m'\u001b[39m,\n\u001b[0;32m     24\u001b[0m                     metrics\u001b[38;5;241m=\u001b[39m[\u001b[38;5;124m\"\u001b[39m\u001b[38;5;124maccuracy\u001b[39m\u001b[38;5;124m\"\u001b[39m])\n\u001b[0;32m     26\u001b[0m     \u001b[38;5;28;01mreturn\u001b[39;00m model\n\u001b[1;32m---> 28\u001b[0m \u001b[38;5;28;01mif\u001b[39;00m \u001b[43mTPU_INIT\u001b[49m:\n\u001b[0;32m     29\u001b[0m     \u001b[38;5;28;01mwith\u001b[39;00m tpu_strategy\u001b[38;5;241m.\u001b[39mscope():\n\u001b[0;32m     30\u001b[0m         model \u001b[38;5;241m=\u001b[39m load_layers()\n",
            "\u001b[1;31mNameError\u001b[0m: name 'TPU_INIT' is not defined"
          ]
        }
      ],
      "source": [
        "epochs = 50\n",
        "\n",
        "from keras import regularizers\n",
        "kernel_regularizer = regularizers.l2(0.0001)\n",
        "\n",
        "from keras.applications.mobilenet_v2 import MobileNetV2\n",
        "\n",
        "def load_layers():\n",
        "    input_tensor = Input(shape=(IMG_SIZE, IMG_SIZE, ColorChannels))\n",
        "    baseModel = MobileNetV2(pooling='avg',\n",
        "                            include_top=False,\n",
        "                            input_tensor=input_tensor)\n",
        "\n",
        "    headModel = baseModel.output\n",
        "    headModel = Dense(1, activation=\"sigmoid\")(headModel)\n",
        "    model = Model(inputs=baseModel.input, outputs=headModel)\n",
        "\n",
        "    for layer in baseModel.layers:\n",
        "        layer.trainable = False\n",
        "\n",
        "    print(\"Compiling model...\")\n",
        "    model.compile(loss=\"binary_crossentropy\",\n",
        "                    optimizer='adam',\n",
        "                    metrics=[\"accuracy\"])\n",
        "\n",
        "    return model\n",
        "\n",
        "if TPU_INIT:\n",
        "    with tpu_strategy.scope():\n",
        "        model = load_layers()\n",
        "else:\n",
        "    model = load_layers()\n",
        "\n",
        "model.summary()"
      ]
    },
    {
      "cell_type": "code",
      "execution_count": 3,
      "metadata": {
        "execution": {
          "iopub.execute_input": "2024-08-20T20:19:10.832302Z",
          "iopub.status.busy": "2024-08-20T20:19:10.831959Z",
          "iopub.status.idle": "2024-08-20T20:19:10.865503Z",
          "shell.execute_reply": "2024-08-20T20:19:10.864799Z",
          "shell.execute_reply.started": "2024-08-20T20:19:10.83227Z"
        },
        "id": "3TUm0Vxmyanw",
        "trusted": true
      },
      "outputs": [
        {
          "ename": "NameError",
          "evalue": "name 'TPU_INIT' is not defined",
          "output_type": "error",
          "traceback": [
            "\u001b[1;31m---------------------------------------------------------------------------\u001b[0m",
            "\u001b[1;31mNameError\u001b[0m                                 Traceback (most recent call last)",
            "Cell \u001b[1;32mIn[3], line 11\u001b[0m\n\u001b[0;32m      7\u001b[0m max_lr \u001b[38;5;241m=\u001b[39m \u001b[38;5;241m0.00005\u001b[39m\n\u001b[0;32m      9\u001b[0m batch_size \u001b[38;5;241m=\u001b[39m \u001b[38;5;241m4\u001b[39m\n\u001b[1;32m---> 11\u001b[0m \u001b[38;5;28;01mif\u001b[39;00m \u001b[43mTPU_INIT\u001b[49m:\n\u001b[0;32m     12\u001b[0m     max_lr \u001b[38;5;241m=\u001b[39m max_lr \u001b[38;5;241m*\u001b[39m tpu_strategy\u001b[38;5;241m.\u001b[39mnum_replicas_in_sync\n\u001b[0;32m     13\u001b[0m     batch_size \u001b[38;5;241m=\u001b[39m batch_size \u001b[38;5;241m*\u001b[39m tpu_strategy\u001b[38;5;241m.\u001b[39mnum_replicas_in_sync\n",
            "\u001b[1;31mNameError\u001b[0m: name 'TPU_INIT' is not defined"
          ]
        }
      ],
      "source": [
        "from tensorflow.keras.callbacks import Callback, ModelCheckpoint, LearningRateScheduler, TensorBoard, EarlyStopping, ReduceLROnPlateau\n",
        "\n",
        "patience = 5\n",
        "\n",
        "start_lr = 0.00001\n",
        "min_lr = 0.00001\n",
        "max_lr = 0.00005\n",
        "\n",
        "batch_size = 4\n",
        "\n",
        "if TPU_INIT:\n",
        "    max_lr = max_lr * tpu_strategy.num_replicas_in_sync\n",
        "    batch_size = batch_size * tpu_strategy.num_replicas_in_sync\n",
        "\n",
        "rampup_epochs = 5\n",
        "sustain_epochs = 0\n",
        "exp_decay = .8\n",
        "\n",
        "def lrfn(epoch):\n",
        "    if epoch < rampup_epochs:\n",
        "        return (max_lr - start_lr)/rampup_epochs * epoch + start_lr\n",
        "    elif epoch < rampup_epochs + sustain_epochs:\n",
        "        return max_lr\n",
        "    else:\n",
        "        return (max_lr - min_lr) * exp_decay**(epoch-rampup_epochs-sustain_epochs) + min_lr\n",
        "\n",
        "\n",
        "class myCallback(Callback):\n",
        "    def on_epoch_end(self, epoch, logs={}):\n",
        "        if ((logs.get('accuracy')>=0.999)):\n",
        "            print(\"\\nLimits Reached cancelling training!\")\n",
        "            self.model.stop_training = True"
      ]
    },
    {
      "cell_type": "code",
      "execution_count": 6,
      "metadata": {
        "execution": {
          "iopub.execute_input": "2024-08-20T20:19:10.86679Z",
          "iopub.status.busy": "2024-08-20T20:19:10.866525Z",
          "iopub.status.idle": "2024-08-20T20:19:10.88103Z",
          "shell.execute_reply": "2024-08-20T20:19:10.880296Z",
          "shell.execute_reply.started": "2024-08-20T20:19:10.866767Z"
        },
        "id": "M3u0k9ngyan0",
        "trusted": true
      },
      "outputs": [
        {
          "ename": "NameError",
          "evalue": "name 'myCallback' is not defined",
          "output_type": "error",
          "traceback": [
            "\u001b[1;31m---------------------------------------------------------------------------\u001b[0m",
            "\u001b[1;31mNameError\u001b[0m                                 Traceback (most recent call last)",
            "Cell \u001b[1;32mIn[6], line 1\u001b[0m\n\u001b[1;32m----> 1\u001b[0m end_callback \u001b[38;5;241m=\u001b[39m \u001b[43mmyCallback\u001b[49m()\n\u001b[0;32m      3\u001b[0m lr_callback \u001b[38;5;241m=\u001b[39m LearningRateScheduler(\u001b[38;5;28;01mlambda\u001b[39;00m epoch: lrfn(epoch), verbose\u001b[38;5;241m=\u001b[39m\u001b[38;5;28;01mFalse\u001b[39;00m)\n\u001b[0;32m      5\u001b[0m early_stopping \u001b[38;5;241m=\u001b[39m EarlyStopping(patience \u001b[38;5;241m=\u001b[39m patience, monitor\u001b[38;5;241m=\u001b[39m\u001b[38;5;124m'\u001b[39m\u001b[38;5;124mval_loss\u001b[39m\u001b[38;5;124m'\u001b[39m,\n\u001b[0;32m      6\u001b[0m                                  mode\u001b[38;5;241m=\u001b[39m\u001b[38;5;124m'\u001b[39m\u001b[38;5;124mmin\u001b[39m\u001b[38;5;124m'\u001b[39m, restore_best_weights\u001b[38;5;241m=\u001b[39m\u001b[38;5;28;01mTrue\u001b[39;00m,\n\u001b[0;32m      7\u001b[0m                                  verbose \u001b[38;5;241m=\u001b[39m \u001b[38;5;241m1\u001b[39m, min_delta \u001b[38;5;241m=\u001b[39m \u001b[38;5;241m.00075\u001b[39m)\n",
            "\u001b[1;31mNameError\u001b[0m: name 'myCallback' is not defined"
          ]
        }
      ],
      "source": [
        "end_callback = myCallback()\n",
        "\n",
        "lr_callback = LearningRateScheduler(lambda epoch: lrfn(epoch), verbose=False)\n",
        "\n",
        "early_stopping = EarlyStopping(patience = patience, monitor='val_loss',\n",
        "                                 mode='min', restore_best_weights=True,\n",
        "                                 verbose = 1, min_delta = .00075)\n",
        "\n",
        "# PROJECT_DIR = MyDrive + '/RiskDetection'\n",
        "\n",
        "lr_plat = ReduceLROnPlateau(patience = 2, mode = 'min')\n",
        "\n",
        "os.system('rm -rf ./logs/')\n",
        "\n",
        "import datetime\n",
        "log_dir=\"logs/fit/\" + datetime.datetime.now().strftime(\"%Y%m%d-%H%M%S\")\n",
        "tensorboard_callback = TensorBoard(log_dir = log_dir, write_graph=True, histogram_freq=1)\n",
        "\n",
        "checkpoint_filepath = 'ModelWeights.weights.h5'\n",
        "\n",
        "model_checkpoints = ModelCheckpoint(filepath=checkpoint_filepath,\n",
        "                                        save_weights_only=True,\n",
        "                                        monitor='val_loss',\n",
        "                                        mode='min',\n",
        "                                        verbose = 1,\n",
        "                                        save_best_only=True)\n",
        "\n",
        "\n",
        "callbacks = [end_callback, lr_callback, model_checkpoints, tensorboard_callback, early_stopping, lr_plat]\n",
        "\n",
        "if TPU_INIT:\n",
        "    callbacks = [end_callback, lr_callback, model_checkpoints, early_stopping, lr_plat]"
      ]
    },
    {
      "cell_type": "code",
      "execution_count": 10,
      "metadata": {
        "execution": {
          "iopub.execute_input": "2024-08-20T20:43:36.619588Z",
          "iopub.status.busy": "2024-08-20T20:43:36.619296Z",
          "iopub.status.idle": "2024-08-20T20:43:36.635242Z",
          "shell.execute_reply": "2024-08-20T20:43:36.634387Z",
          "shell.execute_reply.started": "2024-08-20T20:43:36.619563Z"
        },
        "id": "bFWAp4d9yan0",
        "trusted": true
      },
      "outputs": [],
      "source": [
        "%matplotlib inline\n",
        "\n",
        "def print_graph(item, index, history):\n",
        "    plt.figure()\n",
        "    train_values = history.history[item][0:index]\n",
        "    plt.plot(train_values)\n",
        "    test_values = history.history['val_' + item][0:index]\n",
        "    plt.plot(test_values)\n",
        "    plt.legend(['training','validation'])\n",
        "    plt.title('Training and validation '+ item)\n",
        "    plt.xlabel('epoch')\n",
        "    plt.show()\n",
        "    plot = '{}.png'.format(item)\n",
        "    plt.savefig(plot)\n",
        "\n",
        "\n",
        "def get_best_epoch(test_loss, history):\n",
        "    for key, item in enumerate(history.history.items()):\n",
        "        (name, arr) = item\n",
        "        if name == 'val_loss':\n",
        "            for i in range(len(arr)):\n",
        "                if round(test_loss, 2) == round(arr[i], 2):\n",
        "                    return i\n",
        "\n",
        "def model_summary(model, history):\n",
        "    print('---'*30)\n",
        "    test_loss, test_accuracy = model.evaluate(X_test_nn, y_test, verbose=0)\n",
        "\n",
        "    if history:\n",
        "        index = get_best_epoch(test_loss, history)\n",
        "        print('Best Epochs: ', index)\n",
        "\n",
        "        train_accuracy = history.history['accuracy'][index]\n",
        "        train_loss = history.history['loss'][index]\n",
        "\n",
        "        print('Accuracy on train:',train_accuracy,'\\tLoss on train:',train_loss)\n",
        "        print('Accuracy on test:',test_accuracy,'\\tLoss on test:',test_loss)\n",
        "        print_graph('loss', index, history)\n",
        "        print_graph('accuracy', index, history)\n",
        "        print('---'*30)"
      ]
    },
    {
      "cell_type": "code",
      "execution_count": 19,
      "metadata": {
        "execution": {
          "iopub.execute_input": "2024-08-20T20:43:36.636804Z",
          "iopub.status.busy": "2024-08-20T20:43:36.636428Z",
          "iopub.status.idle": "2024-08-20T20:43:48.921962Z",
          "shell.execute_reply": "2024-08-20T20:43:48.920983Z",
          "shell.execute_reply.started": "2024-08-20T20:43:36.636772Z"
        },
        "id": "zA-z5zPxyan1",
        "trusted": true
      },
      "outputs": [
        {
          "name": "stdout",
          "output_type": "stream",
          "text": [
            "------------------------------------------------------------------------------------------\n",
            "Best Epochs:  44\n",
            "Accuracy on train: 0.9248306751251221 \tLoss on train: 0.22104571759700775\n",
            "Accuracy on test: 0.9128926396369934 \tLoss on test: 0.23961541056632996\n"
          ]
        },
        {
          "data": {
            "image/png": "[encoded data removed]",
            "text/plain": [
              "<Figure size 640x480 with 1 Axes>"
            ]
          },
          "metadata": {},
          "output_type": "display_data"
        },
        {
          "data": {
            "text/plain": [
              "<Figure size 640x480 with 0 Axes>"
            ]
          },
          "metadata": {},
          "output_type": "display_data"
        },
        {
          "data": {
            "image/png": "[encoded data removed]",
            "text/plain": [
              "<Figure size 640x480 with 1 Axes>"
            ]
          },
          "metadata": {},
          "output_type": "display_data"
        },
        {
          "name": "stdout",
          "output_type": "stream",
          "text": [
            "------------------------------------------------------------------------------------------\n"
          ]
        },
        {
          "data": {
            "text/plain": [
              "<Figure size 640x480 with 0 Axes>"
            ]
          },
          "metadata": {},
          "output_type": "display_data"
        }
      ],
      "source": [
        "model_summary(model, history)"
      ]
    },
    {
      "cell_type": "code",
      "execution_count": 11,
      "metadata": {
        "execution": {
          "iopub.execute_input": "2024-08-20T20:43:48.924215Z",
          "iopub.status.busy": "2024-08-20T20:43:48.923399Z",
          "iopub.status.idle": "2024-08-20T20:43:59.361665Z",
          "shell.execute_reply": "2024-08-20T20:43:59.360836Z",
          "shell.execute_reply.started": "2024-08-20T20:43:48.924177Z"
        },
        "id": "NEZ5QnLIyan1",
        "trusted": true
      },
      "outputs": [
        {
          "name": "stdout",
          "output_type": "stream",
          "text": [
            "Evaluating network...\n"
          ]
        },
        {
          "ename": "NameError",
          "evalue": "name 'model' is not defined",
          "output_type": "error",
          "traceback": [
            "\u001b[1;31m---------------------------------------------------------------------------\u001b[0m",
            "\u001b[1;31mNameError\u001b[0m                                 Traceback (most recent call last)",
            "Cell \u001b[1;32mIn[11], line 3\u001b[0m\n\u001b[0;32m      1\u001b[0m \u001b[38;5;66;03m# evaluate the network\u001b[39;00m\n\u001b[0;32m      2\u001b[0m \u001b[38;5;28mprint\u001b[39m(\u001b[38;5;124m\"\u001b[39m\u001b[38;5;124mEvaluating network...\u001b[39m\u001b[38;5;124m\"\u001b[39m)\n\u001b[1;32m----> 3\u001b[0m predictions \u001b[38;5;241m=\u001b[39m \u001b[43mmodel\u001b[49m\u001b[38;5;241m.\u001b[39mpredict(X_test_nn)\n\u001b[0;32m      4\u001b[0m preds \u001b[38;5;241m=\u001b[39m predictions \u001b[38;5;241m>\u001b[39m \u001b[38;5;241m0.5\u001b[39m\n",
            "\u001b[1;31mNameError\u001b[0m: name 'model' is not defined"
          ]
        }
      ],
      "source": [
        "# evaluate the network\n",
        "print(\"Evaluating network...\")\n",
        "predictions = model.predict(X_test_nn)\n",
        "preds = predictions > 0.5"
      ]
    },
    {
      "cell_type": "code",
      "execution_count": 13,
      "metadata": {
        "execution": {
          "iopub.execute_input": "2024-08-20T20:43:59.363541Z",
          "iopub.status.busy": "2024-08-20T20:43:59.363087Z",
          "iopub.status.idle": "2024-08-20T20:43:59.770794Z",
          "shell.execute_reply": "2024-08-20T20:43:59.769761Z",
          "shell.execute_reply.started": "2024-08-20T20:43:59.363505Z"
        },
        "id": "YJg6iLb-yan1",
        "trusted": true
      },
      "outputs": [
        {
          "ename": "NameError",
          "evalue": "name 'y_test' is not defined",
          "output_type": "error",
          "traceback": [
            "\u001b[1;31m---------------------------------------------------------------------------\u001b[0m",
            "\u001b[1;31mNameError\u001b[0m                                 Traceback (most recent call last)",
            "Cell \u001b[1;32mIn[13], line 4\u001b[0m\n\u001b[0;32m      2\u001b[0m \u001b[38;5;28;01mfrom\u001b[39;00m \u001b[38;5;21;01msklearn\u001b[39;00m \u001b[38;5;28;01mimport\u001b[39;00m metrics\n\u001b[0;32m      3\u001b[0m \u001b[38;5;28;01mfrom\u001b[39;00m \u001b[38;5;21;01msklearn\u001b[39;00m\u001b[38;5;21;01m.\u001b[39;00m\u001b[38;5;21;01mmetrics\u001b[39;00m \u001b[38;5;28;01mimport\u001b[39;00m roc_curve, roc_auc_score, RocCurveDisplay, accuracy_score, classification_report, confusion_matrix\n\u001b[1;32m----> 4\u001b[0m corr_pred \u001b[38;5;241m=\u001b[39m metrics\u001b[38;5;241m.\u001b[39mconfusion_matrix(\u001b[43my_test\u001b[49m, preds)\n\u001b[0;32m      6\u001b[0m n_correct \u001b[38;5;241m=\u001b[39m np\u001b[38;5;241m.\u001b[39mint32((corr_pred[\u001b[38;5;241m0\u001b[39m][\u001b[38;5;241m0\u001b[39m] \u001b[38;5;241m+\u001b[39m corr_pred[\u001b[38;5;241m1\u001b[39m][\u001b[38;5;241m1\u001b[39m]))\n\u001b[0;32m      7\u001b[0m \u001b[38;5;28mprint\u001b[39m(\u001b[38;5;124m'\u001b[39m\u001b[38;5;124m> Correct Predictions:\u001b[39m\u001b[38;5;124m'\u001b[39m, n_correct)\n",
            "\u001b[1;31mNameError\u001b[0m: name 'y_test' is not defined"
          ]
        }
      ],
      "source": [
        "import seaborn as sns\n",
        "from sklearn import metrics\n",
        "from sklearn.metrics import roc_curve, roc_auc_score, RocCurveDisplay, accuracy_score, classification_report, confusion_matrix\n",
        "corr_pred = metrics.confusion_matrix(y_test, preds)\n",
        "\n",
        "n_correct = np.int32((corr_pred[0][0] + corr_pred[1][1]))\n",
        "print('> Correct Predictions:', n_correct)\n",
        "n_wrongs = np.int32((corr_pred[0][1] + (corr_pred[1][0])))\n",
        "print('> Wrong Predictions:', n_wrongs)\n",
        "\n",
        "sns.heatmap(corr_pred,annot=True, fmt=\"d\",cmap=\"Blues\")\n",
        "plt.show()\n",
        "\n",
        "print(metrics.classification_report(y_test, preds,\n",
        "                           target_names=[\"NonViolence\", \"Violence\"]))"
      ]
    }
  ],
  "metadata": {
    "colab": {
      "name": "SCVD Dataset - MobileNetv2",
      "provenance": []
    },
    "kaggle": {
      "accelerator": "gpu",
      "dataSources": [
        {
          "datasetId": 2151340,
          "sourceId": 7312675,
          "sourceType": "datasetVersion"
        }
      ],
      "dockerImageVersionId": 30746,
      "isGpuEnabled": true,
      "isInternetEnabled": true,
      "language": "python",
      "sourceType": "notebook"
    },
    "kernelspec": {
      "display_name": "Python 3",
      "language": "python",
      "name": "python3"
    },
    "language_info": {
      "codemirror_mode": {
        "name": "ipython",
        "version": 3
      },
      "file_extension": ".py",
      "mimetype": "text/x-python",
      "name": "python",
      "nbconvert_exporter": "python",
      "pygments_lexer": "ipython3",
      "version": "3.11.9"
    }
  },
  "nbformat": 4,
  "nbformat_minor": 0
}
