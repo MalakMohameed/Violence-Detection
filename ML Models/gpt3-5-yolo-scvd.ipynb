{
 "cells": [
  {
   "cell_type": "code",
   "execution_count": 1,
   "metadata": {
    "execution": {
     "iopub.execute_input": "2024-04-28T21:00:26.640738Z",
     "iopub.status.busy": "2024-04-28T21:00:26.639951Z",
     "iopub.status.idle": "2024-04-28T21:00:26.646186Z",
     "shell.execute_reply": "2024-04-28T21:00:26.645332Z",
     "shell.execute_reply.started": "2024-04-28T21:00:26.640705Z"
    },
    "trusted": true
   },
   "outputs": [],
   "source": [
    "import os\n",
    "import cv2\n",
    "import numpy as np\n",
    "import matplotlib.pyplot as plt\n",
    "from tensorflow.keras.applications.resnet50 import ResNet50, preprocess_input\n",
    "from tensorflow.keras.models import Model\n",
    "from tensorflow.keras.layers import Dense, GlobalAveragePooling2D\n",
    "from tensorflow.keras.preprocessing.image import ImageDataGenerator\n",
    "from sklearn.metrics import confusion_matrix\n",
    "from tensorflow.keras.optimizers import Adam\n"
   ]
  },
  {
   "cell_type": "code",
   "execution_count": 2,
   "metadata": {
    "execution": {
     "iopub.execute_input": "2024-04-28T21:02:47.853212Z",
     "iopub.status.busy": "2024-04-28T21:02:47.852843Z",
     "iopub.status.idle": "2024-04-28T21:02:47.862784Z",
     "shell.execute_reply": "2024-04-28T21:02:47.861908Z",
     "shell.execute_reply.started": "2024-04-28T21:02:47.853187Z"
    },
    "trusted": true
   },
   "outputs": [],
   "source": [
    "def extract_and_save_frames(dataset_path, output_base_dir, frame_count=30):\n",
    "    categories = ['Normal', 'Violence']  # Exclude 'Weaponized'\n",
    "    phases = ['Train', 'Test']\n",
    "    for phase in phases:\n",
    "        for category in categories:\n",
    "            video_dir = os.path.join(dataset_path, phase, category)\n",
    "            output_dir = os.path.join(output_base_dir, phase, category)\n",
    "            os.makedirs(output_dir, exist_ok=True)\n",
    "            videos = [os.path.join(video_dir, f) for f in os.listdir(video_dir) if f.endswith('.avi')]\n",
    "            for video_path in videos:\n",
    "                video_basename = os.path.splitext(os.path.basename(video_path))[0]\n",
    "                video_frame_dir = os.path.join(output_dir, video_basename)\n",
    "                os.makedirs(video_frame_dir, exist_ok=True)\n",
    "                video = cv2.VideoCapture(video_path)\n",
    "                count = 0\n",
    "                try:\n",
    "                    while count < frame_count:\n",
    "                        ret, frame = video.read()\n",
    "                        if not ret:\n",
    "                            break\n",
    "                        frame = cv2.resize(frame, (224, 224))\n",
    "                        frame_filename = f\"{video_frame_dir}/{count}.png\"\n",
    "                        cv2.imwrite(frame_filename, frame)\n",
    "                        count += 1\n",
    "                finally:\n",
    "                    video.release()\n"
   ]
  },
  {
   "cell_type": "code",
   "execution_count": 3,
   "metadata": {
    "execution": {
     "iopub.execute_input": "2024-04-28T21:07:38.442791Z",
     "iopub.status.busy": "2024-04-28T21:07:38.442414Z",
     "iopub.status.idle": "2024-04-28T21:07:38.449206Z",
     "shell.execute_reply": "2024-04-28T21:07:38.448343Z",
     "shell.execute_reply.started": "2024-04-28T21:07:38.442762Z"
    },
    "trusted": true
   },
   "outputs": [],
   "source": [
    "def build_model():\n",
    "    base_model = ResNet50(weights='imagenet', include_top=False, input_shape=(224, 224, 3))\n",
    "    x = base_model.output\n",
    "    x = GlobalAveragePooling2D()(x)\n",
    "    predictions = Dense(1, activation='sigmoid')(x)\n",
    "    model = Model(inputs=base_model.input, outputs=predictions)\n",
    "    \n",
    "    # Freeze the convolutional layers\n",
    "    for layer in base_model.layers:\n",
    "        layer.trainable = False  \n",
    "\n",
    "    # Compile the model with the corrected optimizer parameter\n",
    "    model.compile(optimizer=Adam(learning_rate=0.001), loss='binary_crossentropy', metrics=['accuracy'])\n",
    "    return model\n"
   ]
  },
  {
   "cell_type": "code",
   "execution_count": 4,
   "metadata": {
    "execution": {
     "iopub.execute_input": "2024-04-28T21:00:45.748893Z",
     "iopub.status.busy": "2024-04-28T21:00:45.748547Z",
     "iopub.status.idle": "2024-04-28T21:00:45.755654Z",
     "shell.execute_reply": "2024-04-28T21:00:45.754807Z",
     "shell.execute_reply.started": "2024-04-28T21:00:45.748865Z"
    },
    "trusted": true
   },
   "outputs": [],
   "source": [
    "def create_datagen(base_dir):\n",
    "    train_datagen = ImageDataGenerator(preprocessing_function=preprocess_input,\n",
    "                                       rotation_range=20,\n",
    "                                       width_shift_range=0.2,\n",
    "                                       height_shift_range=0.2,\n",
    "                                       shear_range=0.2,\n",
    "                                       zoom_range=0.2,\n",
    "                                       horizontal_flip=True,\n",
    "                                       fill_mode='nearest')\n",
    "\n",
    "    test_datagen = ImageDataGenerator(preprocessing_function=preprocess_input)\n",
    "    \n",
    "    train_generator = train_datagen.flow_from_directory(\n",
    "        os.path.join(base_dir, 'Train'),\n",
    "        target_size=(224, 224),\n",
    "        batch_size=32,\n",
    "        class_mode='binary')\n",
    "\n",
    "    validation_generator = test_datagen.flow_from_directory(\n",
    "        os.path.join(base_dir, 'Test'),\n",
    "        target_size=(224, 224),\n",
    "        batch_size=32,\n",
    "        class_mode='binary')\n",
    "\n",
    "    return train_generator, validation_generator\n"
   ]
  },
  {
   "cell_type": "code",
   "execution_count": 5,
   "metadata": {
    "execution": {
     "iopub.execute_input": "2024-04-28T21:00:46.412217Z",
     "iopub.status.busy": "2024-04-28T21:00:46.411927Z",
     "iopub.status.idle": "2024-04-28T21:00:46.419115Z",
     "shell.execute_reply": "2024-04-28T21:00:46.418129Z",
     "shell.execute_reply.started": "2024-04-28T21:00:46.412194Z"
    },
    "trusted": true
   },
   "outputs": [],
   "source": [
    "def train_model(model, train_generator, validation_generator, epochs=10):\n",
    "    history = model.fit(train_generator,\n",
    "                        epochs=epochs,\n",
    "                        validation_data=validation_generator)\n",
    "    \n",
    "    # Plotting training results\n",
    "    plt.figure(figsize=(12, 5))\n",
    "    plt.subplot(1, 2, 1)\n",
    "    plt.plot(history.history['loss'], label='loss')\n",
    "    plt.plot(history.history['val_loss'], label='val_loss')\n",
    "    plt.title('Loss')\n",
    "    plt.legend()\n",
    "\n",
    "    plt.subplot(1, 2, 2)\n",
    "    plt.plot(history.history['accuracy'], label='accuracy')\n",
    "    plt.plot(history.history['val_accuracy'], label='val_accuracy')\n",
    "    plt.title('Accuracy')\n",
    "    plt.legend()\n",
    "    plt.show()\n",
    "\n",
    "    return model\n"
   ]
  },
  {
   "cell_type": "code",
   "execution_count": 6,
   "metadata": {
    "execution": {
     "iopub.execute_input": "2024-04-28T21:00:46.960604Z",
     "iopub.status.busy": "2024-04-28T21:00:46.960242Z",
     "iopub.status.idle": "2024-04-28T21:00:46.966012Z",
     "shell.execute_reply": "2024-04-28T21:00:46.964980Z",
     "shell.execute_reply.started": "2024-04-28T21:00:46.960577Z"
    },
    "trusted": true
   },
   "outputs": [],
   "source": [
    "def evaluate_model(model, validation_generator):\n",
    "    predictions = model.predict(validation_generator)\n",
    "    y_pred = (predictions > 0.5).astype(int)\n",
    "    y_true = validation_generator.classes\n",
    "    cm = confusion_matrix(y_true, y_pred)\n",
    "    print('Confusion Matrix:\\n', cm)\n"
   ]
  },
  {
   "cell_type": "code",
   "execution_count": 7,
   "metadata": {
    "execution": {
     "iopub.execute_input": "2024-04-28T21:38:03.026686Z",
     "iopub.status.busy": "2024-04-28T21:38:03.025902Z",
     "iopub.status.idle": "2024-04-28T21:38:03.034460Z",
     "shell.execute_reply": "2024-04-28T21:38:03.033593Z",
     "shell.execute_reply.started": "2024-04-28T21:38:03.026651Z"
    },
    "trusted": true
   },
   "outputs": [],
   "source": [
    "import re\n",
    "\n",
    "def sort_frames(file):\n",
    "    # This regular expression finds numbers in a string and returns the first occurrence.\n",
    "    # If no number is found, it returns -1 to keep the sorting consistent.\n",
    "    numbers = re.findall(r'\\d+', file)\n",
    "    return int(numbers[0]) if numbers else -1\n",
    "\n",
    "def detect_violence(model, video_path):\n",
    "    temp_dir = r'C:\\Users\\malak\\OneDrive\\Documents\\Image Processing Project\\kaggle\\working\\temp_frames'\n",
    "    # Extract frames from the specified video\n",
    "    extract_and_save_frames(video_path, temp_dir)\n",
    "    frames = []\n",
    "    # Sort files based on numeric value found in the filename\n",
    "    frame_files = sorted(os.listdir(temp_dir), key=sort_frames)\n",
    "    for frame_file in frame_files:\n",
    "        img_path = os.path.join(temp_dir, frame_file)\n",
    "        frame = cv2.imread(img_path)\n",
    "        frame = preprocess_input(frame)\n",
    "        frames.append(frame)\n",
    "    \n",
    "    if not frames:\n",
    "        return \"No frames extracted, cannot determine content.\"\n",
    "    \n",
    "    frames = np.array(frames)\n",
    "    predictions = model.predict(frames)\n",
    "    violence_probability = np.mean(predictions)\n",
    "    return 'Violent' if violence_probability > 0.5 else 'Non-violent'\n"
   ]
  },
  {
   "cell_type": "code",
   "execution_count": 8,
   "metadata": {
    "execution": {
     "iopub.execute_input": "2024-04-28T21:02:55.972007Z",
     "iopub.status.busy": "2024-04-28T21:02:55.971414Z",
     "iopub.status.idle": "2024-04-28T21:03:48.497923Z",
     "shell.execute_reply": "2024-04-28T21:03:48.497051Z",
     "shell.execute_reply.started": "2024-04-28T21:02:55.971979Z"
    },
    "trusted": true
   },
   "outputs": [],
   "source": [
    "# Setup paths and directories\n",
    "dataset_base_path = r'C:\\Users\\malak\\OneDrive\\Documents\\Image Processing Project\\SCVD - Copy\\SCVD_converted'\n",
    "output_base_dir = r'C:\\Users\\malak\\OneDrive\\Documents\\Image Processing Project\\out'\n",
    "extract_and_save_frames(dataset_base_path, output_base_dir)"
   ]
  },
  {
   "cell_type": "code",
   "execution_count": 9,
   "metadata": {
    "execution": {
     "iopub.execute_input": "2024-04-28T21:07:45.303484Z",
     "iopub.status.busy": "2024-04-28T21:07:45.302789Z",
     "iopub.status.idle": "2024-04-28T21:27:30.509111Z",
     "shell.execute_reply": "2024-04-28T21:27:30.508132Z",
     "shell.execute_reply.started": "2024-04-28T21:07:45.303453Z"
    },
    "trusted": true
   },
   "outputs": [
    {
     "name": "stdout",
     "output_type": "stream",
     "text": [
      "Found 630 images belonging to 2 classes.\n",
      "Found 270 images belonging to 2 classes.\n",
      "Epoch 1/10\n"
     ]
    },
    {
     "name": "stderr",
     "output_type": "stream",
     "text": [
      "C:\\Users\\malak\\AppData\\Local\\Packages\\PythonSoftwareFoundation.Python.3.11_qbz5n2kfra8p0\\LocalCache\\local-packages\\Python311\\site-packages\\keras\\src\\trainers\\data_adapters\\py_dataset_adapter.py:121: UserWarning: Your `PyDataset` class should call `super().__init__(**kwargs)` in its constructor. `**kwargs` can include `workers`, `use_multiprocessing`, `max_queue_size`. Do not pass these arguments to `fit()`, as they will be ignored.\n",
      "  self._warn_if_super_not_called()\n"
     ]
    },
    {
     "name": "stdout",
     "output_type": "stream",
     "text": [
      "\u001b[1m20/20\u001b[0m \u001b[32m━━━━━━━━━━━━━━━━━━━━\u001b[0m\u001b[37m\u001b[0m \u001b[1m130s\u001b[0m 6s/step - accuracy: 0.6906 - loss: 0.6259 - val_accuracy: 0.0778 - val_loss: 1.4473\n",
      "Epoch 2/10\n",
      "\u001b[1m20/20\u001b[0m \u001b[32m━━━━━━━━━━━━━━━━━━━━\u001b[0m\u001b[37m\u001b[0m \u001b[1m117s\u001b[0m 6s/step - accuracy: 0.9988 - loss: 0.0639 - val_accuracy: 0.0037 - val_loss: 1.8436\n",
      "Epoch 3/10\n",
      "\u001b[1m20/20\u001b[0m \u001b[32m━━━━━━━━━━━━━━━━━━━━\u001b[0m\u001b[37m\u001b[0m \u001b[1m119s\u001b[0m 6s/step - accuracy: 1.0000 - loss: 0.0217 - val_accuracy: 0.0185 - val_loss: 2.0016\n",
      "Epoch 4/10\n",
      "\u001b[1m20/20\u001b[0m \u001b[32m━━━━━━━━━━━━━━━━━━━━\u001b[0m\u001b[37m\u001b[0m \u001b[1m112s\u001b[0m 5s/step - accuracy: 1.0000 - loss: 0.0140 - val_accuracy: 0.0185 - val_loss: 2.1070\n",
      "Epoch 5/10\n",
      "\u001b[1m20/20\u001b[0m \u001b[32m━━━━━━━━━━━━━━━━━━━━\u001b[0m\u001b[37m\u001b[0m \u001b[1m123s\u001b[0m 6s/step - accuracy: 1.0000 - loss: 0.0098 - val_accuracy: 0.0185 - val_loss: 2.1883\n",
      "Epoch 6/10\n",
      "\u001b[1m20/20\u001b[0m \u001b[32m━━━━━━━━━━━━━━━━━━━━\u001b[0m\u001b[37m\u001b[0m \u001b[1m123s\u001b[0m 6s/step - accuracy: 1.0000 - loss: 0.0084 - val_accuracy: 0.0333 - val_loss: 2.2601\n",
      "Epoch 7/10\n",
      "\u001b[1m20/20\u001b[0m \u001b[32m━━━━━━━━━━━━━━━━━━━━\u001b[0m\u001b[37m\u001b[0m \u001b[1m148s\u001b[0m 7s/step - accuracy: 1.0000 - loss: 0.0067 - val_accuracy: 0.0333 - val_loss: 2.3211\n",
      "Epoch 8/10\n",
      "\u001b[1m20/20\u001b[0m \u001b[32m━━━━━━━━━━━━━━━━━━━━\u001b[0m\u001b[37m\u001b[0m \u001b[1m144s\u001b[0m 7s/step - accuracy: 1.0000 - loss: 0.0055 - val_accuracy: 0.0407 - val_loss: 2.3816\n",
      "Epoch 9/10\n",
      "\u001b[1m20/20\u001b[0m \u001b[32m━━━━━━━━━━━━━━━━━━━━\u001b[0m\u001b[37m\u001b[0m \u001b[1m130s\u001b[0m 6s/step - accuracy: 1.0000 - loss: 0.0049 - val_accuracy: 0.0333 - val_loss: 2.4304\n",
      "Epoch 10/10\n",
      "\u001b[1m20/20\u001b[0m \u001b[32m━━━━━━━━━━━━━━━━━━━━\u001b[0m\u001b[37m\u001b[0m \u001b[1m113s\u001b[0m 6s/step - accuracy: 1.0000 - loss: 0.0042 - val_accuracy: 0.0407 - val_loss: 2.4761\n"
     ]
    },
    {
     "data": {
      "image/png": "[encoded data removed]",
      "text/plain": [
       "<Figure size 1200x500 with 2 Axes>"
      ]
     },
     "metadata": {},
     "output_type": "display_data"
    },
    {
     "name": "stdout",
     "output_type": "stream",
     "text": [
      "\u001b[1m9/9\u001b[0m \u001b[32m━━━━━━━━━━━━━━━━━━━━\u001b[0m\u001b[37m\u001b[0m \u001b[1m40s\u001b[0m 4s/step\n",
      "Confusion Matrix:\n",
      " [[66 84]\n",
      " [43 77]]\n"
     ]
    }
   ],
   "source": [
    "# Build and train the model\n",
    "model = build_model()\n",
    "train_gen, val_gen = create_datagen(output_base_dir)\n",
    "model = train_model(model, train_gen, val_gen)\n",
    "evaluate_model(model, val_gen)"
   ]
  },
  {
   "cell_type": "code",
   "execution_count": 10,
   "metadata": {
    "execution": {
     "iopub.execute_input": "2024-04-28T21:30:07.141855Z",
     "iopub.status.busy": "2024-04-28T21:30:07.141177Z",
     "iopub.status.idle": "2024-04-28T21:30:07.563069Z",
     "shell.execute_reply": "2024-04-28T21:30:07.562072Z",
     "shell.execute_reply.started": "2024-04-28T21:30:07.141824Z"
    },
    "trusted": true
   },
   "outputs": [
    {
     "name": "stderr",
     "output_type": "stream",
     "text": [
      "WARNING:absl:You are saving your model as an HDF5 file via `model.save()` or `keras.saving.save_model(model)`. This file format is considered legacy. We recommend using instead the native Keras format, e.g. `model.save('my_model.keras')` or `keras.saving.save_model(model, 'my_model.keras')`. \n"
     ]
    }
   ],
   "source": [
    "model.save('/kaggle/working/violence_detection_resnet50.h5')"
   ]
  },
  {
   "cell_type": "code",
   "execution_count": 11,
   "metadata": {
    "execution": {
     "iopub.execute_input": "2024-04-28T21:51:10.717828Z",
     "iopub.status.busy": "2024-04-28T21:51:10.716976Z",
     "iopub.status.idle": "2024-04-28T21:51:10.757021Z",
     "shell.execute_reply": "2024-04-28T21:51:10.755860Z",
     "shell.execute_reply.started": "2024-04-28T21:51:10.717793Z"
    },
    "trusted": true
   },
   "outputs": [
    {
     "ename": "NameError",
     "evalue": "name 'history' is not defined",
     "output_type": "error",
     "traceback": [
      "\u001b[1;31m---------------------------------------------------------------------------\u001b[0m",
      "\u001b[1;31mNameError\u001b[0m                                 Traceback (most recent call last)",
      "Cell \u001b[1;32mIn[11], line 2\u001b[0m\n\u001b[0;32m      1\u001b[0m \u001b[38;5;66;03m# Assuming 'history' is the variable holding the output from the model.fit call\u001b[39;00m\n\u001b[1;32m----> 2\u001b[0m final_train_accuracy \u001b[38;5;241m=\u001b[39m \u001b[43mhistory\u001b[49m\u001b[38;5;241m.\u001b[39mhistory[\u001b[38;5;124m'\u001b[39m\u001b[38;5;124maccuracy\u001b[39m\u001b[38;5;124m'\u001b[39m][\u001b[38;5;241m-\u001b[39m\u001b[38;5;241m1\u001b[39m]  \u001b[38;5;66;03m# Last training accuracy\u001b[39;00m\n\u001b[0;32m      3\u001b[0m final_val_accuracy \u001b[38;5;241m=\u001b[39m history\u001b[38;5;241m.\u001b[39mhistory[\u001b[38;5;124m'\u001b[39m\u001b[38;5;124mval_accuracy\u001b[39m\u001b[38;5;124m'\u001b[39m][\u001b[38;5;241m-\u001b[39m\u001b[38;5;241m1\u001b[39m]  \u001b[38;5;66;03m# Last validation accuracy\u001b[39;00m\n\u001b[0;32m      5\u001b[0m \u001b[38;5;28mprint\u001b[39m(\u001b[38;5;124mf\u001b[39m\u001b[38;5;124m\"\u001b[39m\u001b[38;5;124mFinal Training Accuracy: \u001b[39m\u001b[38;5;132;01m{\u001b[39;00mfinal_train_accuracy\u001b[38;5;241m*\u001b[39m\u001b[38;5;241m100\u001b[39m\u001b[38;5;132;01m:\u001b[39;00m\u001b[38;5;124m.2f\u001b[39m\u001b[38;5;132;01m}\u001b[39;00m\u001b[38;5;124m%\u001b[39m\u001b[38;5;124m\"\u001b[39m)\n",
      "\u001b[1;31mNameError\u001b[0m: name 'history' is not defined"
     ]
    }
   ],
   "source": [
    "# Assuming 'history' is the variable holding the output from the model.fit call\n",
    "final_train_accuracy = history.history['accuracy'][-1]  # Last training accuracy\n",
    "final_val_accuracy = history.history['val_accuracy'][-1]  # Last validation accuracy\n",
    "\n",
    "print(f\"Final Training Accuracy: {final_train_accuracy*100:.2f}%\")\n",
    "print(f\"Final Validation Accuracy: {final_val_accuracy*100:.2f}%\")"
   ]
  },
  {
   "cell_type": "code",
   "execution_count": 47,
   "metadata": {
    "execution": {
     "iopub.execute_input": "2024-04-28T21:56:26.014824Z",
     "iopub.status.busy": "2024-04-28T21:56:26.014390Z",
     "iopub.status.idle": "2024-04-28T21:56:26.024255Z",
     "shell.execute_reply": "2024-04-28T21:56:26.023282Z",
     "shell.execute_reply.started": "2024-04-28T21:56:26.014794Z"
    },
    "trusted": true
   },
   "outputs": [],
   "source": [
    "import os\n",
    "import requests\n",
    "import numpy as np\n",
    "import matplotlib.pyplot as plt\n",
    "from io import BytesIO\n",
    "from tensorflow.keras.preprocessing.image import load_img, img_to_array\n",
    "from tensorflow.keras.applications.resnet50 import preprocess_input\n",
    "from tensorflow.keras.models import load_model\n",
    "\n",
    "def predict_violence_from_image(model, image_path_or_url):\n",
    "    # Check if the input is a URL or a local file path\n",
    "    if image_path_or_url.startswith('http://') or image_path_or_url.startswith('https://'):\n",
    "        response = requests.get(image_path_or_url)\n",
    "        img = load_img(BytesIO(response.content), target_size=(224, 224))\n",
    "    else:\n",
    "        img = load_img(image_path_or_url, target_size=(224, 224))\n",
    "\n",
    "    # Preprocess the image\n",
    "    img_array = img_to_array(img)  # Convert the image to a numpy array\n",
    "    img_array = preprocess_input(img_array)  # Preprocess the image\n",
    "    img_array = np.expand_dims(img_array, axis=0)  # Add batch dimension\n",
    "\n",
    "    # Predict the violence probability\n",
    "    prediction = model.predict(img_array)\n",
    "    violence_probability = prediction[0][0]\n",
    "    label = 'Violent' if violence_probability > 0.5 else 'Non-violent'\n",
    "\n",
    "    # Return the loaded image, label, and the probability\n",
    "    return img, label, violence_probability"
   ]
  },
  {
   "cell_type": "code",
   "execution_count": null,
   "metadata": {
    "execution": {
     "iopub.execute_input": "2024-04-28T22:55:31.198263Z",
     "iopub.status.busy": "2024-04-28T22:55:31.197501Z",
     "iopub.status.idle": "2024-04-28T22:55:33.140435Z",
     "shell.execute_reply": "2024-04-28T22:55:33.139608Z",
     "shell.execute_reply.started": "2024-04-28T22:55:31.198231Z"
    },
    "trusted": true
   },
   "outputs": [],
   "source": [
    "# Example usage\n",
    "# video_path = '/kaggle/input/smartcity-cctv-violence-detection-dataset-scvd/SCVD/SCVD_converted/Test/Violence/t_v001_converted.avi'\n",
    "# print(detect_violence(model, video_path))\n",
    "# Example usage of the function\n",
    "image_url = 'https://akm-img-a-in.tosshub.com/indiatoday/images/story/202104/crowd.jpg?size=690:388'\n",
    "image, result, probability = predict_violence_from_image(model, image_url)\n",
    "\n",
    "# Plot the image and label it with the prediction result and probability\n",
    "plt.imshow(image)\n",
    "plt.title(f'Prediction: {result}\\nProbability: {probability:.2f}')\n",
    "plt.axis('off')  # Hide the axes\n",
    "plt.show()\n"
   ]
  },
  {
   "cell_type": "code",
   "execution_count": null,
   "metadata": {
    "execution": {
     "iopub.execute_input": "2024-04-28T22:04:17.280396Z",
     "iopub.status.busy": "2024-04-28T22:04:17.279996Z",
     "iopub.status.idle": "2024-04-28T22:04:23.123558Z",
     "shell.execute_reply": "2024-04-28T22:04:23.122644Z",
     "shell.execute_reply.started": "2024-04-28T22:04:17.280369Z"
    },
    "trusted": true
   },
   "outputs": [],
   "source": [
    "import numpy as np\n",
    "from tensorflow.keras.models import load_model\n",
    "from tensorflow.keras.preprocessing.image import ImageDataGenerator\n",
    "\n",
    "# Step 2: Prepare your data\n",
    "# Define the path to your validation data\n",
    "validation_data_dir = '/kaggle/working/Test'  # Adjust this path\n",
    "\n",
    "# Create a data generator for validation\n",
    "val_datagen = ImageDataGenerator(preprocessing_function=preprocess_input)  # Use the appropriate preprocess_input depending on your model base\n",
    "\n",
    "# Create a data generator flow from the directory\n",
    "val_generator = val_datagen.flow_from_directory(\n",
    "    validation_data_dir,\n",
    "    target_size=(224, 224),  # Same size as your model input\n",
    "    batch_size=32,           # Batch size (adjust as needed)\n",
    "    class_mode='binary',     # 'binary' for binary labels, change if necessary\n",
    "    shuffle=False            # No need to shuffle for evaluation\n",
    ")\n",
    "\n",
    "# Step 3: Evaluate the model\n",
    "val_loss, val_accuracy = model.evaluate(val_generator)\n",
    "\n",
    "print(f\"Validation Loss: {val_loss:.2f}\")\n",
    "print(f\"Validation Accuracy: {val_accuracy * 100:.2f}%\")"
   ]
  },
  {
   "cell_type": "code",
   "execution_count": null,
   "metadata": {
    "execution": {
     "iopub.execute_input": "2024-04-28T22:29:41.816641Z",
     "iopub.status.busy": "2024-04-28T22:29:41.816250Z",
     "iopub.status.idle": "2024-04-28T22:30:17.485745Z",
     "shell.execute_reply": "2024-04-28T22:30:17.484805Z",
     "shell.execute_reply.started": "2024-04-28T22:29:41.816608Z"
    },
    "trusted": true
   },
   "outputs": [],
   "source": [
    "import numpy as np\n",
    "from tensorflow.keras.models import load_model\n",
    "from tensorflow.keras.preprocessing.image import ImageDataGenerator\n",
    "\n",
    "model_inception = load_model('/kaggle/working/inceptionv3.h5', compile=False)  # Load without compiling\n",
    "\n",
    "# Recompile the model properly\n",
    "model_inception.compile(optimizer='adam', loss='binary_crossentropy', metrics=['accuracy'])\n",
    "# Step 2: Prepare your data\n",
    "# Define the path to your validation data\n",
    "validation_data_dir = '/kaggle/working/Test/'  # Adjust this path\n",
    "\n",
    "# Create a data generator for validation\n",
    "val_datagen = ImageDataGenerator(rescale=1./255)\n",
    "\n",
    "# Create a data generator flow from the directory\n",
    "val_generator = val_datagen.flow_from_directory(\n",
    "    validation_data_dir,\n",
    "    target_size=(224, 224),  # Same size as your model input\n",
    "    batch_size=32,           # Batch size (adjust as needed)\n",
    "    class_mode='binary',     # 'binary' for binary labels, change if necessary\n",
    "    shuffle=False            # No need to shuffle for evaluation\n",
    ")\n",
    "\n",
    "# Step 3: Evaluate the model\n",
    "val_loss, val_accuracy = model_inception.evaluate(val_generator)\n",
    "\n",
    "print(f\"Validation Loss: {val_loss:.2f}\")\n",
    "print(f\"Validation Accuracy: {val_accuracy * 100:.2f}%\")"
   ]
  }
 ],
 "metadata": {
  "kaggle": {
   "accelerator": "nvidiaTeslaT4",
   "dataSources": [
    {
     "datasetId": 2151340,
     "sourceId": 7312675,
     "sourceType": "datasetVersion"
    }
   ],
   "dockerImageVersionId": 30699,
   "isGpuEnabled": true,
   "isInternetEnabled": true,
   "language": "python",
   "sourceType": "notebook"
  },
  "kernelspec": {
   "display_name": "Python 3",
   "language": "python",
   "name": "python3"
  },
  "language_info": {
   "codemirror_mode": {
    "name": "ipython",
    "version": 3
   },
   "file_extension": ".py",
   "mimetype": "text/x-python",
   "name": "python",
   "nbconvert_exporter": "python",
   "pygments_lexer": "ipython3",
   "version": "3.11.9"
  }
 },
 "nbformat": 4,
 "nbformat_minor": 4
}
